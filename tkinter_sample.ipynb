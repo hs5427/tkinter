{
 "cells": [
  {
   "cell_type": "code",
   "execution_count": 18,
   "metadata": {},
   "outputs": [],
   "source": [
    "import tkinter as tk\n",
    "import tkinter.ttk as ttk\n",
    "import matplotlib.pyplot as plt\n",
    "import os"
   ]
  },
  {
   "cell_type": "code",
   "execution_count": 73,
   "metadata": {},
   "outputs": [],
   "source": [
    "def main():\n",
    "    \n",
    "    ##############################################\n",
    "    # Window\n",
    "    ##############################################\n",
    "    root = tk.Tk()\n",
    "    root.title(\"application name\")\n",
    "    root.geometry(\"600x300\")\n",
    "    #root.resizable(False, False)\n",
    "\n",
    "    ##############################################\n",
    "    # Tab\n",
    "    ##############################################\n",
    "    # タブのインスタンスを作成\n",
    "    nb = ttk.Notebook(root)\n",
    "\n",
    "    # タブにフレームを作成\n",
    "    tab1 = tk.Frame(nb)\n",
    "    tab2 = tk.Frame(nb)\n",
    "\n",
    "    # タブに表示する文字列の設定\n",
    "    nb.add(tab1, text='1st Tab', padding=4)\n",
    "    nb.add(tab2, text='2nd Tab', padding=4)\n",
    "\n",
    "    # 作成した要素を配置\n",
    "    nb.pack(expand=1, fill='both')\n",
    "\n",
    "    ##############################################\n",
    "    # Button\n",
    "    ##############################################\n",
    "    cwd = os.getcwd()\n",
    "\n",
    "    # 画像ファイルをインスタンス変数に代入\n",
    "    img1 = tk.PhotoImage(file=f\"{cwd}/icon/_i_icon_12067_icon_120670_256.png\")\n",
    "    # 画像のリサイズ\n",
    "    img1 = img1.subsample(2, 2)\n",
    "    # ボタンウィジェットの作成\n",
    "    button1 = tk.Button(tab1, text=\"excel出力\", image=img1, command=button_click, compound=\"top\", font=(\"Helvetica\", 16))\n",
    "    button1.grid(row=0, column=0, padx=10, pady=10)\n",
    "    \n",
    "    # 画像ファイルをインスタンス変数に代入\n",
    "    img2 = tk.PhotoImage(file=f\"{cwd}/icon/_i_icon_15820_icon_158200_256.png\")\n",
    "    # 画像のリサイズ\n",
    "    img2 = img2.subsample(2, 2)\n",
    "    button2 = tk.Button(tab1, text=\"充放電曲線出力(html形式)\", image=img2, command=button_click, compound=\"top\", font=(\"Helvetica\", 12))\n",
    "    button2.grid(row=0, column=1, padx=10, pady=10)\n",
    "\n",
    "    # 画像ファイルをインスタンス変数に代入\n",
    "    img3 = tk.PhotoImage(file=f\"{cwd}/icon/_i_icon_00103_icon_001030_256.png\")\n",
    "    # 画像のリサイズ\n",
    "    img3 = img3.subsample(2, 2)\n",
    "    button3 = tk.Button(tab1, text=\"充放電曲線出力(資料用)\", image=img3, command=button_click, compound=\"top\", font=(\"Helvetica\", 12))\n",
    "    button3.grid(row=0, column=2, padx=10, pady=10)\n",
    "\n",
    "\n",
    "    root.mainloop()\n",
    "\n",
    "# ボタンがクリックされたときに呼び出される関数\n",
    "def button_click():\n",
    "    print(\"excel出力されました！\")"
   ]
  },
  {
   "cell_type": "code",
   "execution_count": 74,
   "metadata": {},
   "outputs": [
    {
     "name": "stdout",
     "output_type": "stream",
     "text": [
      "excel出力されました！\n",
      "excel出力されました！\n",
      "excel出力されました！\n",
      "excel出力されました！\n",
      "excel出力されました！\n",
      "excel出力されました！\n"
     ]
    }
   ],
   "source": [
    "main()"
   ]
  },
  {
   "cell_type": "code",
   "execution_count": null,
   "metadata": {},
   "outputs": [],
   "source": []
  }
 ],
 "metadata": {
  "kernelspec": {
   "display_name": "ds_conda_env",
   "language": "python",
   "name": "python3"
  },
  "language_info": {
   "codemirror_mode": {
    "name": "ipython",
    "version": 3
   },
   "file_extension": ".py",
   "mimetype": "text/x-python",
   "name": "python",
   "nbconvert_exporter": "python",
   "pygments_lexer": "ipython3",
   "version": "3.8.18"
  }
 },
 "nbformat": 4,
 "nbformat_minor": 2
}
